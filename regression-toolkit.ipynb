{
 "cells": [
  {
   "cell_type": "markdown",
   "id": "8425e01f-17df-423a-8b2e-1802032664cc",
   "metadata": {},
   "source": [
    "## Package Imports"
   ]
  },
  {
   "cell_type": "code",
   "execution_count": 64,
   "id": "6085d097-29b7-4c47-bf96-0e89853676cd",
   "metadata": {
    "jupyter": {
     "source_hidden": true
    },
    "tags": []
   },
   "outputs": [],
   "source": [
    "from sklearn.model_selection import cross_validate\n",
    "import matplotlib.pyplot as plt\n",
    "from sklearn.model_selection import cross_val_score\n",
    "import numpy as np\n",
    "import seaborn as sns\n",
    "from matplotlib.colors import ListedColormap\n",
    "from sklearn import datasets\n",
    "from sklearn.model_selection import train_test_split\n",
    "from sklearn.tree import DecisionTreeClassifier\n",
    "from sklearn.tree import plot_tree\n",
    "import pandas as pd\n",
    "from sklearn.compose import make_column_transformer\n",
    "from sklearn.preprocessing import LabelEncoder\n",
    "from collections import Counter\n",
    "from sklearn import decomposition\n",
    "\n",
    "from sklearn import datasets, linear_model\n",
    "from sklearn.metrics import mean_squared_error, r2_score\n",
    "from sklearn.neural_network import MLPRegressor\n",
    "from sklearn.decomposition import PCA\n",
    "from sklearn.preprocessing import PolynomialFeatures\n",
    "\n",
    "from sklearn.preprocessing import StandardScaler\n",
    "from sklearn.metrics import accuracy_score\n",
    "from sklearn import tree\n",
    "from sklearn.metrics import ConfusionMatrixDisplay\n",
    "from sklearn.metrics import classification_report, confusion_matrix\n",
    "from sklearn.tree import DecisionTreeClassifier\n",
    "from sklearn.model_selection import cross_validate\n",
    "\n",
    "from sklearn.ensemble import RandomForestClassifier\n",
    "from sklearn.metrics import accuracy_score, confusion_matrix, precision_score\n",
    "from sklearn.model_selection import RandomizedSearchCV, train_test_split\n",
    "from scipy.stats import randint\n",
    "\n",
    "from sklearn.tree import export_graphviz\n",
    "from IPython.display import Image\n",
    "import graphviz\n",
    "\n",
    "from sklearn.ensemble import VotingClassifier\n",
    "import random\n",
    "from sklearn.ensemble import BaggingClassifier\n",
    "from sklearn.linear_model import LogisticRegression\n",
    "from sklearn.naive_bayes import MultinomialNB\n",
    "from sklearn.neural_network import MLPClassifier\n",
    "from sklearn.neural_network import MLPRegressor\n",
    "\n",
    "from sklearn.preprocessing import OneHotEncoder\n",
    "from sklearn.compose import make_column_transformer\n",
    "\n",
    "import warnings\n",
    "warnings.filterwarnings(\"ignore\")\n",
    "\n"
   ]
  },
  {
   "cell_type": "markdown",
   "id": "128fd4b4-8523-49a5-9f48-5ffe7f16596d",
   "metadata": {},
   "source": [
    "### Toy data "
   ]
  },
  {
   "cell_type": "code",
   "execution_count": 8,
   "id": "ed52562b-9159-4cf9-a626-f32c2840c5b8",
   "metadata": {
    "collapsed": true,
    "jupyter": {
     "outputs_hidden": true,
     "source_hidden": true
    },
    "tags": []
   },
   "outputs": [
    {
     "data": {
      "text/html": [
       "<div>\n",
       "<style scoped>\n",
       "    .dataframe tbody tr th:only-of-type {\n",
       "        vertical-align: middle;\n",
       "    }\n",
       "\n",
       "    .dataframe tbody tr th {\n",
       "        vertical-align: top;\n",
       "    }\n",
       "\n",
       "    .dataframe thead th {\n",
       "        text-align: right;\n",
       "    }\n",
       "</style>\n",
       "<table border=\"1\" class=\"dataframe\">\n",
       "  <thead>\n",
       "    <tr style=\"text-align: right;\">\n",
       "      <th></th>\n",
       "      <th>squareMeters</th>\n",
       "      <th>numberOfRooms</th>\n",
       "      <th>hasYard</th>\n",
       "      <th>hasPool</th>\n",
       "      <th>floors</th>\n",
       "      <th>cityCode</th>\n",
       "      <th>cityPartRange</th>\n",
       "      <th>numPrevOwners</th>\n",
       "      <th>made</th>\n",
       "      <th>isNewBuilt</th>\n",
       "      <th>hasStormProtector</th>\n",
       "      <th>basement</th>\n",
       "      <th>attic</th>\n",
       "      <th>garage</th>\n",
       "      <th>hasStorageRoom</th>\n",
       "      <th>hasGuestRoom</th>\n",
       "      <th>price</th>\n",
       "      <th>category</th>\n",
       "    </tr>\n",
       "  </thead>\n",
       "  <tbody>\n",
       "    <tr>\n",
       "      <th>0</th>\n",
       "      <td>43920</td>\n",
       "      <td>77</td>\n",
       "      <td>0</td>\n",
       "      <td>1</td>\n",
       "      <td>93</td>\n",
       "      <td>48540</td>\n",
       "      <td>8</td>\n",
       "      <td>6</td>\n",
       "      <td>2003</td>\n",
       "      <td>1</td>\n",
       "      <td>1</td>\n",
       "      <td>7470</td>\n",
       "      <td>7023</td>\n",
       "      <td>451</td>\n",
       "      <td>1</td>\n",
       "      <td>7</td>\n",
       "      <td>4396723.3</td>\n",
       "      <td>Basic</td>\n",
       "    </tr>\n",
       "    <tr>\n",
       "      <th>1</th>\n",
       "      <td>29637</td>\n",
       "      <td>21</td>\n",
       "      <td>1</td>\n",
       "      <td>0</td>\n",
       "      <td>80</td>\n",
       "      <td>70145</td>\n",
       "      <td>7</td>\n",
       "      <td>9</td>\n",
       "      <td>1998</td>\n",
       "      <td>0</td>\n",
       "      <td>0</td>\n",
       "      <td>9015</td>\n",
       "      <td>6762</td>\n",
       "      <td>303</td>\n",
       "      <td>0</td>\n",
       "      <td>0</td>\n",
       "      <td>2973981.8</td>\n",
       "      <td>Basic</td>\n",
       "    </tr>\n",
       "  </tbody>\n",
       "</table>\n",
       "</div>"
      ],
      "text/plain": [
       "   squareMeters  numberOfRooms  hasYard  hasPool  floors  cityCode  \\\n",
       "0         43920             77        0        1      93     48540   \n",
       "1         29637             21        1        0      80     70145   \n",
       "\n",
       "   cityPartRange  numPrevOwners  made  isNewBuilt  hasStormProtector  \\\n",
       "0              8              6  2003           1                  1   \n",
       "1              7              9  1998           0                  0   \n",
       "\n",
       "   basement  attic  garage  hasStorageRoom  hasGuestRoom      price category  \n",
       "0      7470   7023     451               1             7  4396723.3    Basic  \n",
       "1      9015   6762     303               0             0  2973981.8    Basic  "
      ]
     },
     "execution_count": 8,
     "metadata": {},
     "output_type": "execute_result"
    }
   ],
   "source": [
    "train_data = pd.read_csv('HousingTrain.csv')\n",
    "\n",
    "#going to try to predict price\n",
    "train_data.head(2)\n",
    "\n",
    "#cleaning to do --> convert category to binary\n",
    "\n",
    "test_data = pd.read_csv('HousingTest.csv')\n",
    "test_data.head(2)"
   ]
  },
  {
   "cell_type": "markdown",
   "id": "bc9134d9-2ef5-40ae-9a5b-8d03b894c0ac",
   "metadata": {},
   "source": [
    "### 0: Preprocessing the Data \n",
    "(clean the data before splitting into x and y portions)"
   ]
  },
  {
   "cell_type": "code",
   "execution_count": 9,
   "id": "aed16259-5ea3-442c-bc00-e027d25eabd9",
   "metadata": {
    "jupyter": {
     "source_hidden": true
    },
    "tags": []
   },
   "outputs": [],
   "source": [
    "def label_encode(data):\n",
    "    \n",
    "    \"\"\"\n",
    "    NOTE: use .dropna() to remove missing values\n",
    "    \n",
    "    Takes in a datarframe and converts all data columns that are of\n",
    "    object data type into numerical feilds\n",
    "    \"\"\"\n",
    "    \n",
    "    encoder = LabelEncoder()\n",
    "    # columns that are categorical/of object data type\n",
    "    cols = data.select_dtypes(include='O').columns\n",
    "    \n",
    "\n",
    "    for col in cols:\n",
    "        # Label encoding each column and overwritting it\n",
    "        data[col] = encoder.fit_transform(data[col])\n",
    "        \n",
    "        \n",
    "    return data"
   ]
  },
  {
   "cell_type": "code",
   "execution_count": 10,
   "id": "7a733031-5997-4f09-a740-96cf0b8cd24f",
   "metadata": {
    "jupyter": {
     "source_hidden": true
    },
    "tags": []
   },
   "outputs": [],
   "source": [
    "#the cleaning has to be done on both the train and test portions\n",
    "\n",
    "data = train_data\n",
    "\n",
    "train_data = label_encode(data)"
   ]
  },
  {
   "cell_type": "code",
   "execution_count": 12,
   "id": "bfe32dda-4d0b-4cab-9301-6b7971c83f5f",
   "metadata": {
    "jupyter": {
     "source_hidden": true
    },
    "tags": []
   },
   "outputs": [],
   "source": [
    "\n",
    "data = test_data\n",
    "\n",
    "test_data = label_encode(data)"
   ]
  },
  {
   "cell_type": "markdown",
   "id": "1db56e80-526d-4452-b5a4-b7b316a77811",
   "metadata": {},
   "source": [
    "### Split into X & Y Portions + Train & Test Portions\n",
    "functions will only work for pre-split data!"
   ]
  },
  {
   "cell_type": "code",
   "execution_count": 18,
   "id": "72f311f8-c732-46d4-ba76-0f87b182f2f7",
   "metadata": {
    "jupyter": {
     "source_hidden": true
    },
    "tags": []
   },
   "outputs": [],
   "source": [
    "#SPLIT INTO TRAIN AND TEST PORTIONS\n",
    "xtrain = train_data.drop('price', axis = 1)\n",
    "ytrain = train_data['price']\n",
    "feature_names = xtrain.columns\n",
    "\n",
    "xtest = test_data.drop('price', axis = 1)\n",
    "ytest = test_data['price']\n"
   ]
  },
  {
   "cell_type": "markdown",
   "id": "14b083ff-4fe6-4245-8137-a116cd48dd5e",
   "metadata": {},
   "source": [
    "# Linear Regression"
   ]
  },
  {
   "cell_type": "markdown",
   "id": "3699abe0-271c-4816-a9dc-08cf1954b276",
   "metadata": {},
   "source": [
    "#### CV (on test folds) of Linear Regression + PCA"
   ]
  },
  {
   "cell_type": "code",
   "execution_count": 85,
   "id": "4ac60cab-e0ae-4ff1-9a8d-d8968157268d",
   "metadata": {
    "jupyter": {
     "source_hidden": true
    },
    "tags": []
   },
   "outputs": [],
   "source": [
    "def cv_lin_reg(xtrain,ytrain):\n",
    "    \"\"\"\n",
    "    Get a sense of the models aggregate performance via CV\n",
    "    \n",
    "    \"\"\"\n",
    "    \n",
    "    #preprocess\n",
    "    scaler1 = StandardScaler()\n",
    "    scaler2 = StandardScaler()\n",
    "    xtrain = scaler1.fit_transform(xtrain)\n",
    "    ytrain = scaler2.fit_transform(np.array(ytrain).reshape(-1,1))\n",
    "    \n",
    "    \n",
    "    print('--- CROSS-VALIDATION ---')\n",
    "    model = linear_model.LinearRegression()\n",
    "    # Define the scoring metrics for regression\n",
    "    scoring = ['r2', 'neg_mean_squared_error']\n",
    "\n",
    "    cv_results = cross_validate(model, xtrain, ytrain, cv=5, scoring=scoring)\n",
    "    r2_score = np.mean(cv_results['test_r2'])\n",
    "    mse_score = -np.mean(cv_results['test_neg_mean_squared_error'])\n",
    "\n",
    "    print(f'Mean Squared Error (average - loss/error metric): {mse_score}')\n",
    "    print(f'R-squared (average - evalaution metric): {r2_score}')\n",
    "    \n",
    "    \n",
    "    #PCA For plotting\n",
    "    n_components = 1\n",
    "    pca = PCA(n_components=n_components)\n",
    "    pca_x = pca.fit_transform(xtrain)\n",
    "\n",
    "    pc1 = pca_x[:, 0]\n",
    "    # Plot PC1 against ytrain\n",
    "    plt.scatter(pc1, ytrain)\n",
    "    plt.xlabel('PC1')\n",
    "    plt.ylabel('Target Variable (ytrain)')\n",
    "    plt.title('Principal Component 1 vs. Target Variable')\n",
    "    plt.show()\n",
    "    "
   ]
  },
  {
   "cell_type": "code",
   "execution_count": 86,
   "id": "2eb3e186-9cb9-4b9a-b5bd-7dd744312138",
   "metadata": {
    "collapsed": true,
    "jupyter": {
     "outputs_hidden": true,
     "source_hidden": true
    },
    "tags": []
   },
   "outputs": [
    {
     "name": "stdout",
     "output_type": "stream",
     "text": [
      "--- CROSS-VALIDATION ---\n",
      "Mean Squared Error (average - loss/error metric): 4.3651687356611106e-07\n",
      "R-squared (average - evalaution metric): 0.9999995634432585\n"
     ]
    },
    {
     "data": {
      "image/png": "[encoded data removed]",
      "text/plain": [
       "<Figure size 432x288 with 1 Axes>"
      ]
     },
     "metadata": {
      "needs_background": "light"
     },
     "output_type": "display_data"
    }
   ],
   "source": [
    "xtrain = xtrain\n",
    "ytrain = ytrain\n",
    "cv_lin_reg(xtrain,ytrain)"
   ]
  },
  {
   "cell_type": "markdown",
   "id": "62c178c1-6bec-492d-9ec7-21d828081623",
   "metadata": {},
   "source": [
    "#### Full Lin Reg Algo + PCA Plots"
   ]
  },
  {
   "cell_type": "code",
   "execution_count": 95,
   "id": "88bb4275-188e-4062-860c-c748946d00eb",
   "metadata": {
    "jupyter": {
     "source_hidden": true
    },
    "tags": []
   },
   "outputs": [],
   "source": [
    "def lin_reg(xtrain,ytrain,xtest,ytest,feature_names):\n",
    "    \n",
    "    \"\"\"\n",
    "    Works for multi-linear regression\n",
    "    \n",
    "    \"\"\"\n",
    "    \n",
    "    #preprocessing\n",
    "    scaler1 = StandardScaler()\n",
    "    scaler2 = StandardScaler()\n",
    "    \n",
    "    #scaling the x data\n",
    "    xtrain = scaler1.fit_transform(xtrain)\n",
    "    xtest = scaler1.transform(xtest)\n",
    "    #scaling the y data and ensuring the data is stored as a 2D array\n",
    "    ytrain = scaler2.fit_transform(np.array(ytrain).reshape(-1,1))\n",
    "    ytest = scaler2.transform(np.array(ytest).reshape(-1,1))\n",
    "\n",
    "    \n",
    "    #no need to split\n",
    "    \n",
    "    # Create linear regression object \n",
    "    model = linear_model.LinearRegression()\n",
    "    model.fit(xtrain,ytrain)\n",
    "    \n",
    "    \n",
    "    print('--- MODEL EVALUATION ---')\n",
    "    ypred = model.predict(xtest)\n",
    "    ypred_unscaled = scaler2.inverse_transform(ypred)\n",
    "    print(f'First few predicted classes on xtest:\\n{ypred_unscaled[:5]}')\n",
    "    \n",
    "    #tells us about feature importance\n",
    "    print(\"\\nCoefficients: \\n\", model.coef_)\n",
    "    \n",
    "    #MSE: Standardized loss function (squared disparity between predicted and actual values)\n",
    "    print(\"\\nMSE (train) {loss-function}: %.2f\" % mean_squared_error(ytrain, model.predict(xtrain)))\n",
    "    print(\"MSE (test) {loss-function}: %.2f\" % mean_squared_error(ytest, ypred))\n",
    "\n",
    "    #what percent of the variance in the target is explained by the features?\n",
    "    print(\"R2 (train) {evaluation metric}: %.2f\" % r2_score(ytrain, model.predict(xtrain)))\n",
    "    print(\"R2 (test) {evaluation metric}: %.2f\" % r2_score(ytest, ypred))\n",
    "    \n",
    "    \n",
    "    print('\\n--- CV and Instance Prediction ---')\n",
    "    lin_reg = linear_model.LinearRegression()\n",
    "    mse_scores = cross_val_score(lin_reg, xtrain, ytrain, cv=5, scoring='neg_mean_squared_error')\n",
    "    print(\"Cross-validation MSE (training) (5 folds):\", ((-1*np.mean(mse_scores))*100).round(2))\n",
    "    mse_scores2 = cross_val_score(lin_reg, xtest, ytest, cv=5, scoring='neg_mean_squared_error')\n",
    "    print(\"Cross-validation MSE (testing) (5 folds):\", ((-1*np.mean(mse_scores2))*100).round(2))\n",
    "\n",
    "    \n",
    "    #prediction @ a specific point\n",
    "    #not sure that this is fitting to both?\n",
    "    lin_reg.fit(xtrain,ytrain)\n",
    "    #lin_reg.fit(xtest,ytest)\n",
    "    new_x = [[2.4,2,4,5,6,7,8,9,1,2,4,5,6,7,8,9,5]]\n",
    "    #must scale this new x\n",
    "    new_x = scaler1.transform(new_x)\n",
    "    new_pred = lin_reg.predict(new_x)\n",
    "    print(\"Predictions for new data:\", scaler2.inverse_transform(new_pred))\n",
    "    #print(\"Predictions for new data:\", scaler2.inverse_transform(new_pred[:,np.newaxis]))\n",
    "    \n",
    "    \n",
    "    if xtest.shape[1] == 1:\n",
    "        #only works when x data only has 1 feature --> else need to pca\n",
    "        plt.figure(1)\n",
    "        #scatter the points representing the test values: actual test input and actaul test label\n",
    "        plt.scatter(xtest, ytest[:,0], color=\"black\")\n",
    "        #while the line represents the values predicted on test\n",
    "        plt.plot(xtest, ypred, color=\"blue\", linewidth=3)\n",
    "        plt.title('Scatter of Actual Points -- Line of Predictions on Test')\n",
    "        plt.xlabel('xtest')\n",
    "        plt.ylabel('ytest')\n",
    "        plt.show()\n",
    "\n",
    "        \n",
    "    #Are the point linearly scattered? Do residuals have a constant variance?\n",
    "    plt.figure(2)\n",
    "    plt.title('Predictions on Y Versus Actaul Y Values {Residual Plot}')\n",
    "    #here we scatter the predictions on test versus the actaul variables on test\n",
    "    plt.scatter(ypred,ytest)\n",
    "    plt.xlabel('predictions')\n",
    "    plt.ylabel('true')\n",
    "    \n",
    "    plt.figure(3)\n",
    "    pca = PCA(n_components =1)\n",
    "    #PCA the test data\n",
    "    pca.fit(xtest)\n",
    "    #but only transformt the xtest data\n",
    "    pca_test = pca.transform(xtest)   \n",
    "    plt.scatter(pca_test, ytest[:,0], color = 'black', label = 'test data (truth labels)')\n",
    "    plt.scatter(pca_test, ypred, color = 'blue', label = 'predictions')\n",
    "    plt.legend()\n",
    "    plt.ylabel('y')\n",
    "    plt.xlabel('Scaled, PCA, X Test Data')\n",
    "    plt.show()"
   ]
  },
  {
   "cell_type": "code",
   "execution_count": 96,
   "id": "a6fc4802-7c25-4e28-9a17-66bdea87b903",
   "metadata": {
    "collapsed": true,
    "jupyter": {
     "outputs_hidden": true,
     "source_hidden": true
    },
    "tags": []
   },
   "outputs": [
    {
     "name": "stdout",
     "output_type": "stream",
     "text": [
      "--- MODEL EVALUATION ---\n",
      "First few predicted classes on xtest:\n",
      "[[4400982.56668683]\n",
      " [2971635.43883116]\n",
      " [8784141.26490064]\n",
      " [  22835.3452082 ]\n",
      " [ 148151.48243835]]\n",
      "\n",
      "Coefficients: \n",
      " [[ 1.00000674e+00  3.22067364e-06  5.24761376e-04  5.18734074e-04\n",
      "   5.48164959e-04 -8.98946933e-06  4.53033772e-05  6.24769711e-07\n",
      "  -7.32612121e-06  2.90715361e-05  2.43396074e-05 -1.21928190e-06\n",
      "  -5.42921717e-06  1.19781353e-05  2.35294583e-06 -6.15926616e-06\n",
      "  -3.43535326e-06]]\n",
      "\n",
      "MSE (train) {loss-function}: 0.00\n",
      "MSE (test) {loss-function}: 0.00\n",
      "R2 (train) {evaluation metric}: 1.00\n",
      "R2 (test) {evaluation metric}: 1.00\n",
      "\n",
      "--- CV and Instance Prediction ---\n",
      "Cross-validation MSE (training) (5 folds): 0.0\n",
      "Cross-validation MSE (testing) (5 folds): 0.0\n",
      "Predictions for new data: [[33558.10553266]]\n"
     ]
    },
    {
     "data": {
      "image/png": "[encoded data removed]",
      "text/plain": [
       "<Figure size 432x288 with 1 Axes>"
      ]
     },
     "metadata": {
      "needs_background": "light"
     },
     "output_type": "display_data"
    },
    {
     "data": {
      "image/png": "[encoded data removed]",
      "text/plain": [
       "<Figure size 432x288 with 1 Axes>"
      ]
     },
     "metadata": {
      "needs_background": "light"
     },
     "output_type": "display_data"
    }
   ],
   "source": [
    "xtrain = xtrain\n",
    "ytrain = ytrain\n",
    "xtest = xtest\n",
    "ytest = ytest\n",
    "feature_names = feature_names\n",
    "\n",
    "lin_reg(xtrain,ytrain,xtest,ytest,feature_names)"
   ]
  },
  {
   "cell_type": "markdown",
   "id": "1ab3f930-03ae-4344-82f7-8b7f1c2a86a6",
   "metadata": {},
   "source": [
    "# Lasso Regression (Linear)"
   ]
  },
  {
   "cell_type": "markdown",
   "id": "f16e75cb-7439-4fba-82af-bb2b6a6ba1b9",
   "metadata": {},
   "source": [
    "#### CV - Average Performance of Lasso Regression"
   ]
  },
  {
   "cell_type": "code",
   "execution_count": 115,
   "id": "806b4f7d-3dd4-4e7b-9c2d-eb105c74a0c5",
   "metadata": {
    "jupyter": {
     "source_hidden": true
    },
    "tags": []
   },
   "outputs": [],
   "source": [
    "def cv_lasso(xtrain,ytrain):\n",
    "    \n",
    "    print('--- CROSS-VALIDATION ---')\n",
    "    model = linear_model.Lasso(alpha=0.1)\n",
    "    # Define the scoring metrics for regression\n",
    "    scoring = ['r2', 'neg_mean_squared_error']\n",
    "\n",
    "    cv_results = cross_validate(model, xtrain, ytrain, cv=5, scoring=scoring)\n",
    "    r2_score = np.mean(cv_results['test_r2'])\n",
    "    mse_score = -np.mean(cv_results['test_neg_mean_squared_error'])\n",
    "\n",
    "    print(f'Mean Squared Error (average - loss/error metric): {mse_score}')\n",
    "    print(f'R-squared (average - evalaution metric): {r2_score}')\n",
    "    "
   ]
  },
  {
   "cell_type": "code",
   "execution_count": 116,
   "id": "5379522b-a2e9-439f-859d-59393e597e8b",
   "metadata": {
    "collapsed": true,
    "jupyter": {
     "outputs_hidden": true,
     "source_hidden": true
    },
    "tags": []
   },
   "outputs": [
    {
     "name": "stdout",
     "output_type": "stream",
     "text": [
      "--- CROSS-VALIDATION ---\n",
      "Mean Squared Error (average - loss/error metric): 3613657.9421647685\n",
      "R-squared (average - evalaution metric): 0.9999995634478506\n"
     ]
    }
   ],
   "source": [
    "xtrain= xtrain\n",
    "ytrain= ytrain\n",
    "\n",
    "cv_lasso(xtrain,ytrain)"
   ]
  },
  {
   "cell_type": "markdown",
   "id": "bd51bbd3-4812-4ad9-842c-df79bc34e88d",
   "metadata": {},
   "source": [
    "#### Full Algo"
   ]
  },
  {
   "cell_type": "code",
   "execution_count": 112,
   "id": "36ca9c46-c359-4f92-b281-310487b57acf",
   "metadata": {
    "jupyter": {
     "source_hidden": true
    },
    "tags": []
   },
   "outputs": [],
   "source": [
    "def lasso_reg(xtrain, ytrain, xtest, ytest):\n",
    "    \n",
    "    # Preprocessing\n",
    "    scaler1 = StandardScaler()\n",
    "    scaler2 = StandardScaler()\n",
    "    \n",
    "    # Scaling the data\n",
    "    xtrain = scaler1.fit_transform(xtrain)\n",
    "    xtest = scaler1.transform(xtest)\n",
    "    ytrain = scaler2.fit_transform(np.array(ytrain).reshape(-1, 1))\n",
    "    ytest = scaler2.transform(np.array(ytest).reshape(-1, 1))\n",
    "    \n",
    "    #apply the lasso model, which penalize features that are too impactful on predictions\n",
    "    model = linear_model.Lasso(alpha=0.1)  # Set the regularization parameter (alpha)\n",
    "    model.fit(xtrain, ytrain)\n",
    "    \n",
    "    print(\"--- MODEL EVALUATION ---\")\n",
    "    ypred = (model.predict(xtest)).reshape(-1,1)\n",
    "    ypred_unscaled = scaler2.inverse_transform(ypred)\n",
    "    print(f\"First few predicted classes on xtest:\\n{ypred_unscaled[:5]}\")\n",
    "    \n",
    "    # Feature Importance\n",
    "    print(\"\\nCoefficients (Feature Importances): \\n\", model.coef_)\n",
    "    \n",
    "    # Loss and Evaluation Metrics\n",
    "    print(\"\\nMSE (train): %.2f\" % mean_squared_error(ytrain, model.predict(xtrain)))\n",
    "    print(\"MSE (test): %.2f\" % mean_squared_error(ytest, ypred))\n",
    "    print(\"R2 (train): %.2f\" % r2_score(ytrain, model.predict(xtrain)))\n",
    "    print(\"R2 (test): %.2f\" % r2_score(ytest, ypred))\n",
    "    \n",
    "    \n",
    "    print(\"\\n--- PREDICTION @ NEW DATA ---\")\n",
    "    xv = scaler1.transform([[2.4, 2, 4, 5, 6, 7, 8, 9, 1, 2, 4, 5, 6, 7, 8, 9, 5]])\n",
    "    predv = (model.predict(xv)).reshape(-1,1)\n",
    "    print(\"Predictions for new data:\", scaler2.inverse_transform(predv))\n",
    "    \n",
    "    if xtest.shape[1] == 1:\n",
    "        # Scatter plot of actual vs. predicted values\n",
    "        plt.figure(1)\n",
    "        plt.scatter(xtest, ytest[:, 0], color=\"black\")\n",
    "        plt.plot(xtest, ypred, color=\"blue\", linewidth=3)\n",
    "        plt.title(\"Scatter of Actual Points -- Line of Predictions on Test\")\n",
    "        plt.xlabel(\"xtest\")\n",
    "        plt.ylabel(\"ytest\")\n",
    "        plt.show()\n",
    "\n",
    "        # Residual plot\n",
    "        plt.figure(2)\n",
    "        plt.scatter(ypred, ytest)\n",
    "        plt.xlabel(\"predictions\")\n",
    "        plt.ylabel(\"true\")\n",
    "        plt.title(\"Predictions on Y Versus Actaul Y Values {Residual Plot}\")\n",
    "        plt.show()\n",
    "    \n",
    "    "
   ]
  },
  {
   "cell_type": "code",
   "execution_count": 113,
   "id": "72c2caf1-6c2a-4ae0-b48d-f51ce64dc12d",
   "metadata": {
    "collapsed": true,
    "jupyter": {
     "outputs_hidden": true,
     "source_hidden": true
    },
    "tags": []
   },
   "outputs": [
    {
     "name": "stdout",
     "output_type": "stream",
     "text": [
      "--- MODEL EVALUATION ---\n",
      "First few predicted classes on xtest:\n",
      "[[4457909.47590953]\n",
      " [3172447.68467433]\n",
      " [8403574.27949018]\n",
      " [ 518814.63037411]\n",
      " [ 631583.91024653]]\n",
      "\n",
      "Coefficients (Feature Importances): \n",
      " [ 0.89999936  0.         -0.         -0.          0.         -0.\n",
      "  0.          0.         -0.         -0.          0.         -0.\n",
      " -0.         -0.         -0.         -0.         -0.        ]\n",
      "\n",
      "MSE (train): 0.01\n",
      "MSE (test): 0.01\n",
      "R2 (train): 0.99\n",
      "R2 (test): 0.99\n",
      "\n",
      "--- PREDICTION @ NEW DATA ---\n",
      "Predictions for new data: [[505350.71635264]]\n"
     ]
    }
   ],
   "source": [
    "xtrain = xtrain\n",
    "ytrain = ytrain\n",
    "xtest = xtest\n",
    "ytest= ytest\n",
    "\n",
    "lasso_reg(xtrain, ytrain, xtest, ytest)"
   ]
  },
  {
   "cell_type": "markdown",
   "id": "9aea8314-f0ac-4b69-941c-a0a295af2a8e",
   "metadata": {},
   "source": [
    "# Quadratic Regression"
   ]
  },
  {
   "cell_type": "markdown",
   "id": "e63a3c50-dac7-4e76-858c-d5264063a8ce",
   "metadata": {},
   "source": [
    "#### CV For Average Model Performance"
   ]
  },
  {
   "cell_type": "code",
   "execution_count": 90,
   "id": "f1830430-49fb-4399-8c1c-dd617dc8e142",
   "metadata": {
    "jupyter": {
     "source_hidden": true
    },
    "tags": []
   },
   "outputs": [],
   "source": [
    "def cv_quad(xtrain,ytrain):\n",
    "    \n",
    "    # --- PREPROCESSING ---\n",
    "    scaler1 = StandardScaler()\n",
    "    scaler2 = StandardScaler()\n",
    "    \n",
    "    xtrain = scaler1.fit_transform(xtrain)\n",
    "\n",
    "    #adding polynomial features to the xdata\n",
    "    poly = PolynomialFeatures(degree =2, include_bias = False)\n",
    "    xtrain = poly.fit_transform(xtrain)\n",
    "\n",
    "    #scaling on y + ensuring that y is in the format of a 2D array\n",
    "    ytrain = scaler2.fit_transform(np.array(ytrain).reshape(-1,1))\n",
    "\n",
    "    \n",
    "    print('--- CROSS-VALIDATION ---')\n",
    "    model = linear_model.LinearRegression()\n",
    "    # Define the scoring metrics for regression\n",
    "    scoring = ['r2', 'neg_mean_squared_error']\n",
    "\n",
    "    cv_results = cross_validate(model, xtrain, ytrain, cv=5, scoring=scoring)\n",
    "    r2_score = np.mean(cv_results['test_r2'])\n",
    "    mse_score = -np.mean(cv_results['test_neg_mean_squared_error'])\n",
    "\n",
    "    print(f'Mean Squared Error (average - loss/error metric): {mse_score}')\n",
    "    print(f'R-squared (average - evalaution metric): {r2_score}')\n",
    "    \n",
    "    \n",
    "    #PCA For plotting\n",
    "    n_components = 1\n",
    "    pca = PCA(n_components=n_components)\n",
    "    pca_x = pca.fit_transform(xtrain)\n",
    "\n",
    "    pc1 = pca_x[:, 0]\n",
    "    # Plot PC1 against ytrain\n",
    "    plt.scatter(pc1, ytrain)\n",
    "    plt.xlabel('PC1')\n",
    "    plt.ylabel('Target Variable (ytrain)')\n",
    "    plt.title('Principal Component 1 vs. Target Variable')\n",
    "    plt.show()\n",
    "    \n",
    "    "
   ]
  },
  {
   "cell_type": "code",
   "execution_count": 91,
   "id": "d81bc20a-9f96-4f92-a8b1-e9057dcbf57c",
   "metadata": {
    "collapsed": true,
    "jupyter": {
     "outputs_hidden": true,
     "source_hidden": true
    },
    "tags": []
   },
   "outputs": [
    {
     "name": "stdout",
     "output_type": "stream",
     "text": [
      "--- CROSS-VALIDATION ---\n",
      "Mean Squared Error (average - loss/error metric): 4.4531178534859887e-07\n",
      "R-squared (average - evalaution metric): 0.9999995546544931\n"
     ]
    },
    {
     "data": {
      "image/png": "[encoded data removed]",
      "text/plain": [
       "<Figure size 432x288 with 1 Axes>"
      ]
     },
     "metadata": {
      "needs_background": "light"
     },
     "output_type": "display_data"
    }
   ],
   "source": [
    "xtrain = xtrain\n",
    "ytrain = ytrain\n",
    "\n",
    "cv_quad(xtrain,ytrain)"
   ]
  },
  {
   "cell_type": "markdown",
   "id": "467a65ae-af7a-4a86-baf9-545a7d44a012",
   "metadata": {},
   "source": [
    "#### Full Algo"
   ]
  },
  {
   "cell_type": "code",
   "execution_count": 62,
   "id": "8bc5cb53-158a-4da6-9c31-7f2decc23758",
   "metadata": {
    "jupyter": {
     "source_hidden": true
    },
    "tags": []
   },
   "outputs": [],
   "source": [
    "def quad_reg(xtrain,ytrain,xtest,ytest,feature_names):\n",
    "    \n",
    "    # --- PREPROCESSING ---\n",
    "    scaler1 = StandardScaler()\n",
    "    scaler2 = StandardScaler()\n",
    "    \n",
    "    xtrain = scaler1.fit_transform(xtrain)\n",
    "    xtest = scaler1.transform(xtest)\n",
    "    \n",
    "    #part of preprocessing includes adding polynomial features to the xdata\n",
    "    #creating the instance specifying quadratic features\n",
    "    poly = PolynomialFeatures(degree =2, include_bias = False)\n",
    "    #transform x so it has quadratic features\n",
    "    xtrain = poly.fit_transform(xtrain)\n",
    "    xtest = poly.transform(xtest)\n",
    "    \n",
    "    #scaling on y + ensuring that y is in the format of a 2D array\n",
    "    ytrain = scaler2.fit_transform(np.array(ytrain).reshape(-1,1))\n",
    "    ytest = scaler2.transform(np.array(ytest).reshape(-1,1))\n",
    "    \n",
    "    \n",
    "    #instantate a model, it is still a linear regresion model\n",
    "    # we simply transform features to include quadratics\n",
    "    model = linear_model.LinearRegression()\n",
    "    model.fit(xtrain,ytrain)\n",
    "    \n",
    "    print('--- MODEL EVALUATION ---')\n",
    "    ypred = model.predict(xtest)\n",
    "    ypred_unscaled = scaler2.inverse_transform(ypred)\n",
    "    print(f'First few predicted classes on xtest:\\n{ypred_unscaled[:5]}')\n",
    "    \n",
    "    #SCALED coefficents + learn about feature importance\n",
    "    print(\"\\nCoefficients: \\n\", model.coef_)\n",
    "    \n",
    "    #aggregate error between predicted values and ground truth labels\n",
    "    print(\"\\nMSE (train) {loss-function}: %.2f\" % mean_squared_error(ytrain, model.predict(xtrain)))\n",
    "    print(\"MSE (test) {loss-function}: %.2f\" % mean_squared_error(ytest, ypred))\n",
    "    \n",
    "    #how 'well' do the features explain the variation in y?\n",
    "    print(\"R2 (train) {evaluation metric}: %.2f\" % r2_score(ytrain, model.predict(xtrain)))\n",
    "    print(\"R2 (test) {evaluation metric}: %.2f\" % r2_score(ytest, ypred))\n",
    "\n",
    "    \n",
    "    print('\\n--- CV and Instance Prediction ---')\n",
    "    lin_reg = linear_model.LinearRegression()\n",
    "    mse_scores = cross_val_score(lin_reg, xtrain, ytrain, cv=5, scoring='neg_mean_squared_error')\n",
    "    print(\"Cross-validation MSE (training) (5 folds):\", ((-1*np.mean(mse_scores))*100).round(2))\n",
    "    mse_scores2 = cross_val_score(lin_reg, xtest, ytest, cv=5, scoring='neg_mean_squared_error')\n",
    "    print(\"Cross-validation MSE (testing) (5 folds):\", ((-1*np.mean(mse_scores2))*100).round(2))\n",
    "    \n",
    "    #ENTER A NEW DATA POINT HERE\n",
    "    #we take in the data & preprocess --> scale it + transform to include\n",
    "    #quadratic forms\n",
    "    xv = scaler1.transform([[2.3,4]])\n",
    "    xv = poly.transform(xv)\n",
    "    predv = scaler2.inverse_transform((model.predict(xv)))\n",
    "    print(\"Predictions for new data:\", predv)\n",
    "    \n",
    "    \n",
    "    \n",
    "    #PLOTS\n",
    "    #Are the point linearly scattered? Do residuals have a constant variance?\n",
    "    plt.figure(2)\n",
    "    plt.title('Predictions on Y Versus Actaul Y Values {Residual Plot}')\n",
    "    #here we scatter the predictions on test versus the actaul variables on test\n",
    "    plt.scatter(ypred,ytest)\n",
    "    plt.xlabel('predictions')\n",
    "    plt.ylabel('true')\n",
    "    \n",
    "    plt.figure(3)\n",
    "    pca = PCA(n_components =1)\n",
    "    #PCA the test data\n",
    "    pca.fit(xtest)\n",
    "    #but only transformt the xtest data\n",
    "    pca_test = pca.transform(xtest)   \n",
    "    plt.scatter(pca_test, ytest[:,0], color = 'black', label = 'test data (truth labels)')\n",
    "    plt.scatter(pca_test, ypred, color = 'blue', label = 'predictions')\n",
    "    plt.legend()\n",
    "    plt.ylabel('y')\n",
    "    plt.xlabel('Scaled, PCA, X Test Data')\n",
    "    plt.show()\n",
    "    \n",
    "    "
   ]
  },
  {
   "cell_type": "code",
   "execution_count": 63,
   "id": "e99919ed-2c88-404b-a7bc-4f83835b5ce7",
   "metadata": {
    "collapsed": true,
    "jupyter": {
     "outputs_hidden": true,
     "source_hidden": true
    },
    "tags": []
   },
   "outputs": [
    {
     "name": "stdout",
     "output_type": "stream",
     "text": [
      "--- MODEL EVALUATION ---\n",
      "First few predicted classes on xtest:\n",
      "[[4401138.24145258]\n",
      " [2971430.5396608 ]\n",
      " [8784101.1693757 ]\n",
      " [  22654.11730163]\n",
      " [ 148726.02951712]]\n",
      "\n",
      "Coefficients: \n",
      " [[ 1.00000714e+00  2.90020073e-06 -2.72274784e+07 -6.39350663e+07\n",
      "   5.47588973e-04 -8.91745934e-06  4.75129538e-05 -2.23925244e-07\n",
      "  -8.10190660e-06 -2.20709679e+08  2.34436688e+06 -2.52156657e-06\n",
      "  -5.66142640e-06  1.17093676e-05 -2.18068147e+06 -6.36104608e-06\n",
      "  -9.01067263e+07 -7.60117865e-06 -1.30011134e-05 -5.58301277e-06\n",
      "  -1.17622507e-05 -2.30851233e-06  1.15465228e-05 -1.05395529e-05\n",
      "   1.06967206e-07  3.41383212e-06 -1.12290161e-06 -8.49441818e-06\n",
      "  -1.27479134e-05  4.53908309e-06 -4.47335898e-06 -1.55564025e-06\n",
      "  -5.73506611e-06  2.02134252e-05  1.35079026e-05  2.47359276e-06\n",
      "   3.93390656e-06  1.99116766e-06  8.34465027e-07  8.64267349e-06\n",
      "   2.16439366e-06 -4.87698708e-06 -9.88692045e-06 -4.56906855e-06\n",
      "   2.30967999e-06 -2.33016908e-06 -2.57976353e-06 -4.56348062e-08\n",
      "   7.26664439e-06  3.01003456e-06 -2.37944785e+08 -2.82004476e-06\n",
      "  -5.83194196e-06 -9.22381878e-06 -6.48805872e-06 -3.52039933e-07\n",
      "  -1.21206976e-05 -2.62446702e-06 -3.08454037e-06  2.99280509e-06\n",
      "  -6.34789467e-06 -1.27479434e-05  1.20254699e-05 -8.46385956e-06\n",
      "  -5.28832832e+07 -1.12412433e+08 -6.52670860e-06 -1.90362334e-06\n",
      "  -2.23517418e-08 -5.80027699e-06  1.35228038e-06 -7.45058060e-08\n",
      "  -6.67572021e-06  5.29456884e-06  6.01634383e-06  5.54323196e-06\n",
      "   6.25289977e-06 -1.03563070e-05 -1.70435877e+08  1.33453868e-05\n",
      "  -1.05043873e-05 -1.59628689e-06 -7.13858753e-06 -1.17197633e-05\n",
      "  -1.12131238e-06 -3.35648656e-06  3.17767262e-06  8.79168510e-07\n",
      "   2.67848372e-06 -4.45544720e-06 -3.25404108e-06  6.24358654e-06\n",
      "   1.22562051e-06 -2.21282244e-06 -1.32620335e-06  2.67894939e-06\n",
      "   5.64148650e-06  7.30715692e-06 -1.54934824e-05 -5.99026680e-06\n",
      "  -9.29553062e-06 -3.70107591e-06  4.04473394e-06  3.33786011e-06\n",
      "   2.51084566e-06 -8.57841223e-06  3.18139791e-06 -7.35186040e-06\n",
      "   1.96136534e-06 -1.00396574e-05 -8.04662704e-06  5.67361712e-06\n",
      "  -4.77954745e-06  1.52224675e-05 -1.47148967e-06 -6.27711415e-07\n",
      "  -3.88687477e-06  9.02265310e-06  7.37514347e-06 -1.17346644e-06\n",
      "   8.15652311e-06  7.08084553e-06 -4.04193997e-07  2.83122063e-07\n",
      "   2.53319740e-07 -4.18350101e-06 -1.03637576e-05  3.24472785e-06\n",
      "  -2.54157931e-06  1.06627122e-05  1.32052228e-05  8.72649252e-07\n",
      "  -8.87550414e-07  3.42912972e-06 -1.76437252e+07  5.90085983e-06\n",
      "  -2.39349902e-07 -2.48104334e-06 -1.12354755e-05  6.30039722e-06\n",
      "  -1.93342566e-05 -5.79757244e+08 -4.10262529e+08 -8.33533704e-06\n",
      "  -4.47966158e-06 -5.85243106e-06  8.19563866e-06  1.27488747e-05\n",
      "   2.18674541e-06 -2.28546560e-06  8.83825123e-06 -1.66334212e-06\n",
      "   1.45826489e-05 -3.41329724e-07 -8.40239227e-06 -1.04587525e-05\n",
      "  -6.95697963e-06  2.19978392e-06 -4.77768481e-07 -2.68220901e-07\n",
      "  -7.40401447e-06  3.58559191e-06 -5.25265932e-06  1.00433826e-05\n",
      "  -1.61895407e+08 -3.65450978e-06  1.39325857e-06 -6.17653131e-06\n",
      "   2.31117010e-05  3.98129174e+08]]\n",
      "\n",
      "MSE (train) {loss-function}: 0.00\n",
      "MSE (test) {loss-function}: 0.00\n",
      "R2 (train) {evaluation metric}: 1.00\n",
      "R2 (test) {evaluation metric}: 1.00\n",
      "\n",
      "--- CV and Instance Prediction ---\n",
      "Cross-validation MSE (training) (5 folds): 0.0\n",
      "Cross-validation MSE (testing) (5 folds): 1.3\n"
     ]
    },
    {
     "ename": "ValueError",
     "evalue": "X has 2 features, but StandardScaler is expecting 17 features as input.",
     "output_type": "error",
     "traceback": [
      "\u001b[1;31m---------------------------------------------------------------------------\u001b[0m",
      "\u001b[1;31mValueError\u001b[0m                                Traceback (most recent call last)",
      "\u001b[1;32m~\\AppData\\Local\\Temp/ipykernel_7992/1656973823.py\u001b[0m in \u001b[0;36m<module>\u001b[1;34m\u001b[0m\n\u001b[0;32m      5\u001b[0m \u001b[0mfeature_names\u001b[0m \u001b[1;33m=\u001b[0m \u001b[0mfeature_names\u001b[0m\u001b[1;33m\u001b[0m\u001b[1;33m\u001b[0m\u001b[0m\n\u001b[0;32m      6\u001b[0m \u001b[1;33m\u001b[0m\u001b[0m\n\u001b[1;32m----> 7\u001b[1;33m \u001b[0mquad_reg\u001b[0m\u001b[1;33m(\u001b[0m\u001b[0mxtrain\u001b[0m\u001b[1;33m,\u001b[0m\u001b[0mytrain\u001b[0m\u001b[1;33m,\u001b[0m\u001b[0mxtest\u001b[0m\u001b[1;33m,\u001b[0m\u001b[0mytest\u001b[0m\u001b[1;33m,\u001b[0m\u001b[0mfeature_names\u001b[0m\u001b[1;33m)\u001b[0m\u001b[1;33m\u001b[0m\u001b[1;33m\u001b[0m\u001b[0m\n\u001b[0m",
      "\u001b[1;32m~\\AppData\\Local\\Temp/ipykernel_7992/3662878568.py\u001b[0m in \u001b[0;36mquad_reg\u001b[1;34m(xtrain, ytrain, xtest, ytest, feature_names)\u001b[0m\n\u001b[0;32m     52\u001b[0m     \u001b[1;31m#we take in the data & preprocess --> scale it + transform to include\u001b[0m\u001b[1;33m\u001b[0m\u001b[1;33m\u001b[0m\u001b[0m\n\u001b[0;32m     53\u001b[0m     \u001b[1;31m#quadratic forms\u001b[0m\u001b[1;33m\u001b[0m\u001b[1;33m\u001b[0m\u001b[0m\n\u001b[1;32m---> 54\u001b[1;33m     \u001b[0mxv\u001b[0m \u001b[1;33m=\u001b[0m \u001b[0mscaler1\u001b[0m\u001b[1;33m.\u001b[0m\u001b[0mtransform\u001b[0m\u001b[1;33m(\u001b[0m\u001b[1;33m[\u001b[0m\u001b[1;33m[\u001b[0m\u001b[1;36m2.3\u001b[0m\u001b[1;33m,\u001b[0m\u001b[1;36m4\u001b[0m\u001b[1;33m]\u001b[0m\u001b[1;33m]\u001b[0m\u001b[1;33m)\u001b[0m\u001b[1;33m\u001b[0m\u001b[1;33m\u001b[0m\u001b[0m\n\u001b[0m\u001b[0;32m     55\u001b[0m     \u001b[0mxv\u001b[0m \u001b[1;33m=\u001b[0m \u001b[0mpoly\u001b[0m\u001b[1;33m.\u001b[0m\u001b[0mtransform\u001b[0m\u001b[1;33m(\u001b[0m\u001b[0mxv\u001b[0m\u001b[1;33m)\u001b[0m\u001b[1;33m\u001b[0m\u001b[1;33m\u001b[0m\u001b[0m\n\u001b[0;32m     56\u001b[0m     \u001b[0mpredv\u001b[0m \u001b[1;33m=\u001b[0m \u001b[0mscaler2\u001b[0m\u001b[1;33m.\u001b[0m\u001b[0minverse_transform\u001b[0m\u001b[1;33m(\u001b[0m\u001b[1;33m(\u001b[0m\u001b[0mmodel\u001b[0m\u001b[1;33m.\u001b[0m\u001b[0mpredict\u001b[0m\u001b[1;33m(\u001b[0m\u001b[0mxv\u001b[0m\u001b[1;33m)\u001b[0m\u001b[1;33m)\u001b[0m\u001b[1;33m)\u001b[0m\u001b[1;33m\u001b[0m\u001b[1;33m\u001b[0m\u001b[0m\n",
      "\u001b[1;32m~\\AppData\\Local\\Packages\\PythonSoftwareFoundation.Python.3.9_qbz5n2kfra8p0\\LocalCache\\local-packages\\Python39\\site-packages\\sklearn\\utils\\_set_output.py\u001b[0m in \u001b[0;36mwrapped\u001b[1;34m(self, X, *args, **kwargs)\u001b[0m\n\u001b[0;32m    155\u001b[0m     \u001b[1;33m@\u001b[0m\u001b[0mwraps\u001b[0m\u001b[1;33m(\u001b[0m\u001b[0mf\u001b[0m\u001b[1;33m)\u001b[0m\u001b[1;33m\u001b[0m\u001b[1;33m\u001b[0m\u001b[0m\n\u001b[0;32m    156\u001b[0m     \u001b[1;32mdef\u001b[0m \u001b[0mwrapped\u001b[0m\u001b[1;33m(\u001b[0m\u001b[0mself\u001b[0m\u001b[1;33m,\u001b[0m \u001b[0mX\u001b[0m\u001b[1;33m,\u001b[0m \u001b[1;33m*\u001b[0m\u001b[0margs\u001b[0m\u001b[1;33m,\u001b[0m \u001b[1;33m**\u001b[0m\u001b[0mkwargs\u001b[0m\u001b[1;33m)\u001b[0m\u001b[1;33m:\u001b[0m\u001b[1;33m\u001b[0m\u001b[1;33m\u001b[0m\u001b[0m\n\u001b[1;32m--> 157\u001b[1;33m         \u001b[0mdata_to_wrap\u001b[0m \u001b[1;33m=\u001b[0m \u001b[0mf\u001b[0m\u001b[1;33m(\u001b[0m\u001b[0mself\u001b[0m\u001b[1;33m,\u001b[0m \u001b[0mX\u001b[0m\u001b[1;33m,\u001b[0m \u001b[1;33m*\u001b[0m\u001b[0margs\u001b[0m\u001b[1;33m,\u001b[0m \u001b[1;33m**\u001b[0m\u001b[0mkwargs\u001b[0m\u001b[1;33m)\u001b[0m\u001b[1;33m\u001b[0m\u001b[1;33m\u001b[0m\u001b[0m\n\u001b[0m\u001b[0;32m    158\u001b[0m         \u001b[1;32mif\u001b[0m \u001b[0misinstance\u001b[0m\u001b[1;33m(\u001b[0m\u001b[0mdata_to_wrap\u001b[0m\u001b[1;33m,\u001b[0m \u001b[0mtuple\u001b[0m\u001b[1;33m)\u001b[0m\u001b[1;33m:\u001b[0m\u001b[1;33m\u001b[0m\u001b[1;33m\u001b[0m\u001b[0m\n\u001b[0;32m    159\u001b[0m             \u001b[1;31m# only wrap the first output for cross decomposition\u001b[0m\u001b[1;33m\u001b[0m\u001b[1;33m\u001b[0m\u001b[0m\n",
      "\u001b[1;32m~\\AppData\\Local\\Packages\\PythonSoftwareFoundation.Python.3.9_qbz5n2kfra8p0\\LocalCache\\local-packages\\Python39\\site-packages\\sklearn\\preprocessing\\_data.py\u001b[0m in \u001b[0;36mtransform\u001b[1;34m(self, X, copy)\u001b[0m\n\u001b[0;32m   1004\u001b[0m \u001b[1;33m\u001b[0m\u001b[0m\n\u001b[0;32m   1005\u001b[0m         \u001b[0mcopy\u001b[0m \u001b[1;33m=\u001b[0m \u001b[0mcopy\u001b[0m \u001b[1;32mif\u001b[0m \u001b[0mcopy\u001b[0m \u001b[1;32mis\u001b[0m \u001b[1;32mnot\u001b[0m \u001b[1;32mNone\u001b[0m \u001b[1;32melse\u001b[0m \u001b[0mself\u001b[0m\u001b[1;33m.\u001b[0m\u001b[0mcopy\u001b[0m\u001b[1;33m\u001b[0m\u001b[1;33m\u001b[0m\u001b[0m\n\u001b[1;32m-> 1006\u001b[1;33m         X = self._validate_data(\n\u001b[0m\u001b[0;32m   1007\u001b[0m             \u001b[0mX\u001b[0m\u001b[1;33m,\u001b[0m\u001b[1;33m\u001b[0m\u001b[1;33m\u001b[0m\u001b[0m\n\u001b[0;32m   1008\u001b[0m             \u001b[0mreset\u001b[0m\u001b[1;33m=\u001b[0m\u001b[1;32mFalse\u001b[0m\u001b[1;33m,\u001b[0m\u001b[1;33m\u001b[0m\u001b[1;33m\u001b[0m\u001b[0m\n",
      "\u001b[1;32m~\\AppData\\Local\\Packages\\PythonSoftwareFoundation.Python.3.9_qbz5n2kfra8p0\\LocalCache\\local-packages\\Python39\\site-packages\\sklearn\\base.py\u001b[0m in \u001b[0;36m_validate_data\u001b[1;34m(self, X, y, reset, validate_separately, cast_to_ndarray, **check_params)\u001b[0m\n\u001b[0;32m    624\u001b[0m \u001b[1;33m\u001b[0m\u001b[0m\n\u001b[0;32m    625\u001b[0m         \u001b[1;32mif\u001b[0m \u001b[1;32mnot\u001b[0m \u001b[0mno_val_X\u001b[0m \u001b[1;32mand\u001b[0m \u001b[0mcheck_params\u001b[0m\u001b[1;33m.\u001b[0m\u001b[0mget\u001b[0m\u001b[1;33m(\u001b[0m\u001b[1;34m\"ensure_2d\"\u001b[0m\u001b[1;33m,\u001b[0m \u001b[1;32mTrue\u001b[0m\u001b[1;33m)\u001b[0m\u001b[1;33m:\u001b[0m\u001b[1;33m\u001b[0m\u001b[1;33m\u001b[0m\u001b[0m\n\u001b[1;32m--> 626\u001b[1;33m             \u001b[0mself\u001b[0m\u001b[1;33m.\u001b[0m\u001b[0m_check_n_features\u001b[0m\u001b[1;33m(\u001b[0m\u001b[0mX\u001b[0m\u001b[1;33m,\u001b[0m \u001b[0mreset\u001b[0m\u001b[1;33m=\u001b[0m\u001b[0mreset\u001b[0m\u001b[1;33m)\u001b[0m\u001b[1;33m\u001b[0m\u001b[1;33m\u001b[0m\u001b[0m\n\u001b[0m\u001b[0;32m    627\u001b[0m \u001b[1;33m\u001b[0m\u001b[0m\n\u001b[0;32m    628\u001b[0m         \u001b[1;32mreturn\u001b[0m \u001b[0mout\u001b[0m\u001b[1;33m\u001b[0m\u001b[1;33m\u001b[0m\u001b[0m\n",
      "\u001b[1;32m~\\AppData\\Local\\Packages\\PythonSoftwareFoundation.Python.3.9_qbz5n2kfra8p0\\LocalCache\\local-packages\\Python39\\site-packages\\sklearn\\base.py\u001b[0m in \u001b[0;36m_check_n_features\u001b[1;34m(self, X, reset)\u001b[0m\n\u001b[0;32m    413\u001b[0m \u001b[1;33m\u001b[0m\u001b[0m\n\u001b[0;32m    414\u001b[0m         \u001b[1;32mif\u001b[0m \u001b[0mn_features\u001b[0m \u001b[1;33m!=\u001b[0m \u001b[0mself\u001b[0m\u001b[1;33m.\u001b[0m\u001b[0mn_features_in_\u001b[0m\u001b[1;33m:\u001b[0m\u001b[1;33m\u001b[0m\u001b[1;33m\u001b[0m\u001b[0m\n\u001b[1;32m--> 415\u001b[1;33m             raise ValueError(\n\u001b[0m\u001b[0;32m    416\u001b[0m                 \u001b[1;34mf\"X has {n_features} features, but {self.__class__.__name__} \"\u001b[0m\u001b[1;33m\u001b[0m\u001b[1;33m\u001b[0m\u001b[0m\n\u001b[0;32m    417\u001b[0m                 \u001b[1;34mf\"is expecting {self.n_features_in_} features as input.\"\u001b[0m\u001b[1;33m\u001b[0m\u001b[1;33m\u001b[0m\u001b[0m\n",
      "\u001b[1;31mValueError\u001b[0m: X has 2 features, but StandardScaler is expecting 17 features as input."
     ]
    }
   ],
   "source": [
    "xtrain = xtrain\n",
    "ytrain = ytrain\n",
    "xtest = xtest\n",
    "ytest = ytest\n",
    "feature_names = feature_names\n",
    "\n",
    "quad_reg(xtrain,ytrain,xtest,ytest,feature_names)"
   ]
  },
  {
   "cell_type": "markdown",
   "id": "fb2af525-5392-4018-9f84-897f36cc0939",
   "metadata": {},
   "source": [
    "# NN For Regression"
   ]
  },
  {
   "cell_type": "markdown",
   "id": "365eafe1-5827-4710-9231-b7c1e54231b7",
   "metadata": {},
   "source": [
    "#### CV"
   ]
  },
  {
   "cell_type": "code",
   "execution_count": null,
   "id": "b2068460-9b9b-4a7b-8ead-2d3b1e58d0fc",
   "metadata": {
    "jupyter": {
     "source_hidden": true
    },
    "tags": []
   },
   "outputs": [],
   "source": [
    "def cv_nn_reg(xtrain,ytrain):\n",
    "        \n",
    "    print('--- CROSS-VALIDATION ---')\n",
    "    #update this with the type of model asked to CV\n",
    "    nn_reg = MLPRegressor(hidden_layer_sizes=(20),\n",
    "                    max_iter=10000,\n",
    "                    activation='tanh',\n",
    "                    learning_rate='adaptive')\n",
    "    # Define the scoring metrics for regression\n",
    "    scoring = ['r2', 'neg_mean_squared_error']\n",
    "\n",
    "    cv_results = cross_validate(nn_reg, xtrain, ytrain, cv=5, scoring=scoring)\n",
    "    r2_score = np.mean(cv_results['test_r2'])\n",
    "    mse_score = -np.mean(cv_results['test_neg_mean_squared_error'])\n",
    "\n",
    "    print(f'Mean Squared Error (average - loss/error metric): {mse_score}')\n",
    "    print(f'R-squared (average - evalaution metric): {r2_score}')\n",
    "\n",
    "    "
   ]
  },
  {
   "cell_type": "code",
   "execution_count": null,
   "id": "295c3970-7525-4519-a17e-f07c5f2a1d05",
   "metadata": {
    "jupyter": {
     "source_hidden": true
    },
    "tags": []
   },
   "outputs": [],
   "source": [
    "xtrain = xtrain\n",
    "ytrain = ytrain\n",
    "\n",
    "cv_nn_reg(xtrain,ytrain)"
   ]
  },
  {
   "cell_type": "markdown",
   "id": "51b21831-9b77-42ea-8a6f-c6958e4217ce",
   "metadata": {},
   "source": [
    "#### Full Algo"
   ]
  },
  {
   "cell_type": "code",
   "execution_count": 65,
   "id": "d69dbf94-83e1-4818-90c4-ea44b1ba8514",
   "metadata": {
    "jupyter": {
     "source_hidden": true
    },
    "tags": []
   },
   "outputs": [],
   "source": [
    "def nn_reg(x2,y2):\n",
    "    \n",
    "    #preprocessing\n",
    "    scaler1 = StandardScaler()\n",
    "    scaler2 = StandardScaler()\n",
    "    scaled_x = scaler1.fit_transform(x2)\n",
    "    scaled_y = scaler2.fit_transform(y2[:,np.newaxis])\n",
    "    \n",
    "    xtrain, xtest, ytrain, ytest = train_test_split(scaled_x, scaled_y, test_size=0.20)\n",
    "    \n",
    "    #create an instance of the MLPRegressor Object\n",
    "    model = MLPRegressor(hidden_layer_sizes=(64,32,16),\n",
    "                    max_iter=10000,\n",
    "                    activation='tanh',\n",
    "                    learning_rate='adaptive')\n",
    "    \n",
    "    #fit to the training data\n",
    "    model.fit(xtrain,ytrain)\n",
    "    \n",
    "    #predictions on testing\n",
    "    print('--- MODEL EVALUATION ---')\n",
    "    ypred = model.predict(xtest)\n",
    "    unscaled_ypred =scaler2.inverse_transform(ypred.reshape(-1,1))\n",
    "    print(f'First few predicted values on xtest:\\n{unscaled_ypred[:5]}')\n",
    "    \n",
    "    # LOSS FUNCTION: squared residuals (difference between predicted and actaul values)\n",
    "    print(\"MSE (scaled): %.2f\" % mean_squared_error(ytest, ypred))\n",
    "    #print(\"MSE (unscaled): %.2f\" % mean_squared_error(scaler2.inverse_transform(ytest), scaler2.inverse_transform(ypred)))\n",
    "    # The coefficient of determination: 1 is perfect prediction --> not loss a measure of GOF\n",
    "    print(\"R2: %.2f\" % r2_score(ytest, ypred))\n",
    "    \n",
    "    \n",
    "    print('\\n--- CV and Instance Prediction ---')\n",
    "    nn_reg = MLPRegressor(hidden_layer_sizes=(64,32,16),\n",
    "                    max_iter=10000,\n",
    "                    activation='tanh',\n",
    "                    learning_rate='adaptive')\n",
    "    \n",
    "    mse_scores = cross_val_score(nn_reg, x, y, cv=5, scoring='neg_mean_squared_error')\n",
    "    print(\"Cross-validation MSE (Scaled) (5 folds):\", ((-1*np.mean(mse_scores))*100).round(2))\n",
    "    \n",
    "    #we fit to x & y which are both scaled here\n",
    "    #nn_reg.fit(x,y)\n",
    "    new_x = [[123]]\n",
    "    scaled_new_x = scaler1.transform(new_x)\n",
    "    new_pred = model.predict(scaled_new_x)\n",
    "    print(\"Predictions for new data:\", scaler2.inverse_transform(new_pred[:,np.newaxis]))\n",
    "    \n",
    "    plt.figure(1)\n",
    "    plt.scatter(xtest,ytest[:,0], color = 'black')\n",
    "    #line of the predicted points\n",
    "    plt.plot(xtest,ypred, color = 'blue')\n",
    "    plt.xlabel('xtest')\n",
    "    plt.ylabel('ytest')\n",
    "    plt.title('Scatterplot of Actual Points -- Line Representing Predicions on Xtest')\n",
    "    \n",
    "    \n",
    "    print('--- PCA for Plotting ---')\n",
    "    plt.figure(2)\n",
    "    pca = PCA(n_components =1)\n",
    "    #PCA the entire scaled x data\n",
    "    pca.fit(scaled_x)\n",
    "    #but only transformt the xtest data\n",
    "    pca_test = pca.transform(xtest)\n",
    "    \n",
    "    plt.scatter(pca_test, ytest[:,0], color = 'black', label = 'test data')\n",
    "    plt.scatter(pca_test, ypred, color = 'blue', label = 'predictions')\n",
    "    plt.legend()\n",
    "    plt.ylabel('y')\n",
    "    plt.xlabel('Scaled, PCA, X Test Data')\n",
    "    plt.show()\n",
    "    \n",
    "    "
   ]
  },
  {
   "cell_type": "markdown",
   "id": "0069839d-1657-416c-8c7c-564f0a939f7d",
   "metadata": {},
   "source": [
    "# Regression Ensemble"
   ]
  },
  {
   "cell_type": "code",
   "execution_count": 74,
   "id": "dfc10633-e615-4664-82bb-17e2d3770d2f",
   "metadata": {
    "jupyter": {
     "source_hidden": true
    },
    "tags": []
   },
   "outputs": [],
   "source": [
    "def reg_ensemble(xtrain,ytrain,xtest,ytest):\n",
    "\n",
    "    #preprocess the data\n",
    "    scaler1 = StandardScaler()\n",
    "    scaler2 = StandardScaler()\n",
    "\n",
    "    xtrain = scaler1.fit_transform(xtrain)\n",
    "    xtest = scaler1.transform(xtest)\n",
    "    ytrain = scaler2.fit_transform(np.array(ytrain).reshape(-1,1))\n",
    "    ytest = scaler2.transform(np.array(ytest).reshape(-1,1))\n",
    "\n",
    "\n",
    "    #initiliaze N regressionrs\n",
    "    model1 = linear_model.LinearRegression()\n",
    "    model2 = linear_model.LinearRegression()\n",
    "    model3 = linear_model.LinearRegression()\n",
    "\n",
    "    #train the individual regressors\n",
    "    model1.fit(xtrain,ytrain)\n",
    "    model2.fit(xtrain,ytrain)\n",
    "    model3.fit(xtrain,ytrain)\n",
    "\n",
    "    #predict the classes on test using each regressor\n",
    "    pred1 = model1.predict(xtest)\n",
    "    pred2 = model2.predict(xtest)\n",
    "    pred3 = model3.predict(xtest)\n",
    "\n",
    "    #evaluate the predictive performance each model using R2\n",
    "    #R2 is the evaluation metric for regression (quantifies how well the features explain the labels)\n",
    "    #looks at the variations between the actaul labels on test and the predicted labels\n",
    "    r2_1 = r2_score(ytest, pred1)\n",
    "    r2_2 = r2_score(ytest, pred2)\n",
    "    r2_3 = r2_score(ytest, pred3)\n",
    "\n",
    "\n",
    "    #examining the loss final for each model (aggregate error of each model in prediciton)\n",
    "    print('--- MODEL EVALAUTION: Loss Function/Aggregate Error ---')\n",
    "    print(f'Model 1 MSE: {mean_squared_error(ytest, pred1, squared=False)}')\n",
    "    print(f'Model 2 MSE: {mean_squared_error(ytest, pred2, squared=False)}')\n",
    "    print(f'Model 3 MSE: {mean_squared_error(ytest, pred3, squared=False)}')\n",
    "\n",
    "    print('\\n--- MODEL EVALAUTION: Coefficent of Determination ---')\n",
    "    print(f'R-squared (model 1): {r2_1}')\n",
    "    print(f'R-squared (model 2): {r2_2}')\n",
    "    print(f'R-squared (model 3): {r2_3}')\n",
    "\n",
    "\n",
    "    print('\\n--- APPLYING THE WEIGHTED AVERAGE ENSEMBLE ---')\n",
    "    ensemble_pred = (pred1 + pred2 +  pred3)/3\n",
    "    r2_ensemble = r2_score(ytest, ensemble_pred)\n",
    "    print(f'R-squared (Ensemble): {r2_ensemble}')\n",
    "\n"
   ]
  },
  {
   "cell_type": "code",
   "execution_count": 75,
   "id": "0df5a6ab-b568-4040-a6e9-874473f64038",
   "metadata": {
    "collapsed": true,
    "jupyter": {
     "outputs_hidden": true,
     "source_hidden": true
    },
    "tags": []
   },
   "outputs": [
    {
     "name": "stdout",
     "output_type": "stream",
     "text": [
      "--- MODEL EVALAUTION: Loss Function/Aggregate Error ---\n",
      "Model 1 MSE: 0.000655355698142274\n",
      "Model 2 MSE: 0.000655355698142274\n",
      "Model 3 MSE: 0.000655355698142274\n",
      "\n",
      "--- MODEL EVALAUTION: Coefficent of Determination ---\n",
      "R-squared (model 1): 0.9999995711802372\n",
      "R-squared (model 2): 0.9999995711802372\n",
      "R-squared (model 3): 0.9999995711802372\n",
      "\n",
      "--- APPLYING THE WEIGHTED AVERAGE ENSEMBLE ---\n",
      "R-squared (Ensemble): 0.9999995711802372\n"
     ]
    }
   ],
   "source": [
    "xtrain = xtrain\n",
    "ytrain = ytrain\n",
    "\n",
    "xtest = xtest\n",
    "ytest = ytest\n",
    "\n",
    "\n",
    "reg_ensemble(xtrain,ytrain,xtest,ytest)"
   ]
  }
 ],
 "metadata": {
  "kernelspec": {
   "display_name": "Python 3 (ipykernel)",
   "language": "python",
   "name": "python3"
  },
  "language_info": {
   "codemirror_mode": {
    "name": "ipython",
    "version": 3
   },
   "file_extension": ".py",
   "mimetype": "text/x-python",
   "name": "python",
   "nbconvert_exporter": "python",
   "pygments_lexer": "ipython3",
   "version": "3.9.13"
  }
 },
 "nbformat": 4,
 "nbformat_minor": 5
}
